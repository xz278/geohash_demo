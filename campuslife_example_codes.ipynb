{
 "cells": [
  {
   "cell_type": "code",
   "execution_count": 1,
   "metadata": {
    "collapsed": true
   },
   "outputs": [],
   "source": [
    "import pandas as pd\n",
    "from collections import Counter\n",
    "import json"
   ]
  },
  {
   "cell_type": "code",
   "execution_count": 2,
   "metadata": {
    "collapsed": false
   },
   "outputs": [],
   "source": [
    "# read data\n",
    "df = pd.DataFrame.from_csv('./user_4_geohash.csv')\n",
    "\n",
    "# pd.read_csv() also works.\n",
    "# I prefer pd.DataFram.from_csv() for timeindex dataframe\n",
    "# since it handles the timeindex automatically when the first\n",
    "# column is time index."
   ]
  },
  {
   "cell_type": "code",
   "execution_count": 3,
   "metadata": {
    "collapsed": false
   },
   "outputs": [],
   "source": [
    "# Be careful with timezone inforatmion.\n",
    "# pd.DataFrame.from_csv() always converts the timeindex\n",
    "# to UTC timezone.\n",
    "# Need to convert the time index into local timezone for\n",
    "# better analysis.\n",
    "\n",
    "# The next two functions only handle the index datetime objects.\n",
    "# Localize timezone/add initial timezone inforamtion.\n",
    "df = df.tz_localize('UTC')\n",
    "\n",
    "# Lonvert to New York time/or other timezone.\n",
    "df = df.tz_convert('America/New_York')"
   ]
  },
  {
   "cell_type": "code",
   "execution_count": 4,
   "metadata": {
    "collapsed": false,
    "scrolled": true
   },
   "outputs": [],
   "source": [
    "# Convert the 'entry_time' column to datetime obejcts if needed\n",
    "df['time'] = df['entry_time'].apply(lambda x: pd.to_datetime(x).\n",
    "                                              tz_localize('UTC').\n",
    "                                              tz_convert('America/New_York'))"
   ]
  },
  {
   "cell_type": "code",
   "execution_count": 5,
   "metadata": {
    "collapsed": true
   },
   "outputs": [],
   "source": [
    "df['weekday'] = df['time'].apply(lambda x: x.weekday())"
   ]
  },
  {
   "cell_type": "code",
   "execution_count": 6,
   "metadata": {
    "collapsed": false
   },
   "outputs": [],
   "source": [
    "df['time_in_day'] = [x.time() for x in df.index]"
   ]
  },
  {
   "cell_type": "code",
   "execution_count": 33,
   "metadata": {
    "collapsed": false,
    "scrolled": true
   },
   "outputs": [],
   "source": [
    "# generate data for each block\n",
    "data = {}\n",
    "for i in range(5):\n",
    "    t = pd.to_datetime('8:00:00', format= '%H:%M:%S')\n",
    "    e = pd.to_datetime('17:00:00', format='%H:%M:%S')\n",
    "\n",
    "    c = 0\n",
    "    data2 = {}\n",
    "    while t.time() <= e.time():\n",
    "        n_t = t + pd.to_timedelta('15m')\n",
    "        tmp = df.loc[(df['weekday'] == i) &\n",
    "                     (df['time_in_day'] >= t.time()) &\n",
    "                     (df['time_in_day'] < n_t.time())]\n",
    "        cnt = Counter(tmp['geohash_8'])\n",
    "        mf = cnt.most_common()[0]\n",
    "        t = n_t\n",
    "        data2[c] = (mf)\n",
    "        c += 1\n",
    "    data[i] = data2"
   ]
  },
  {
   "cell_type": "code",
   "execution_count": 35,
   "metadata": {
    "collapsed": false
   },
   "outputs": [],
   "source": [
    "# save to json file\n",
    "with open('./data.txt', 'w') as f:\n",
    "    json.dump(data, f)"
   ]
  }
 ],
 "metadata": {
  "kernelspec": {
   "display_name": "Python 3",
   "language": "python",
   "name": "python3"
  },
  "language_info": {
   "codemirror_mode": {
    "name": "ipython",
    "version": 3
   },
   "file_extension": ".py",
   "mimetype": "text/x-python",
   "name": "python",
   "nbconvert_exporter": "python",
   "pygments_lexer": "ipython3",
   "version": "3.5.2"
  }
 },
 "nbformat": 4,
 "nbformat_minor": 2
}
