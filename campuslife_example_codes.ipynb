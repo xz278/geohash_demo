{
 "cells": [
  {
   "cell_type": "code",
   "execution_count": 1,
   "metadata": {
    "collapsed": true
   },
   "outputs": [],
   "source": [
    "import pandas as pd\n",
    "from collections import Counter"
   ]
  },
  {
   "cell_type": "code",
   "execution_count": 2,
   "metadata": {
    "collapsed": false
   },
   "outputs": [],
   "source": [
    "# read data\n",
    "df = pd.DataFrame.from_csv('./user_4_geohash.csv')\n",
    "\n",
    "# pd.read_csv() also works.\n",
    "# I prefer pd.DataFram.from_csv() for timeindex dataframe\n",
    "# since it handles the timeindex automatically when the first\n",
    "# column is time index."
   ]
  },
  {
   "cell_type": "code",
   "execution_count": 3,
   "metadata": {
    "collapsed": false
   },
   "outputs": [],
   "source": [
    "# Be careful with timezone inforatmion.\n",
    "# pd.DataFrame.from_csv() always converts the timeindex\n",
    "# to UTC timezone.\n",
    "# Need to convert the time index into local timezone for\n",
    "# better analysis.\n",
    "\n",
    "# The next two functions only handle the index datetime objects.\n",
    "# Localize timezone/add initial timezone inforamtion.\n",
    "df = df.tz_localize('UTC')\n",
    "\n",
    "# Lonvert to New York time/or other timezone.\n",
    "df = df.tz_convert('America/New_York')"
   ]
  },
  {
   "cell_type": "code",
   "execution_count": 4,
   "metadata": {
    "collapsed": false,
    "scrolled": true
   },
   "outputs": [],
   "source": [
    "# Convert the 'entry_time' column to datetime obejcts if needed\n",
    "df['time'] = df['entry_time'].apply(lambda x: pd.to_datetime(x).\n",
    "                                              tz_localize('UTC').\n",
    "                                              tz_convert('America/New_York'))"
   ]
  },
  {
   "cell_type": "code",
   "execution_count": 17,
   "metadata": {
    "collapsed": true
   },
   "outputs": [],
   "source": [
    "df['weekday'] = df['time'].apply(lambda x: x.weekday())"
   ]
  },
  {
   "cell_type": "code",
   "execution_count": 6,
   "metadata": {
    "collapsed": false
   },
   "outputs": [],
   "source": [
    "df['time_in_day'] = [x.time() for x in df.index]"
   ]
  },
  {
   "cell_type": "code",
   "execution_count": 15,
   "metadata": {
    "collapsed": false
   },
   "outputs": [
    {
     "data": {
      "text/plain": [
       "Timestamp('1900-01-01 09:20:00')"
      ]
     },
     "execution_count": 15,
     "metadata": {},
     "output_type": "execute_result"
    }
   ],
   "source": [
    "pd.to_datetime('8:20:00', format= '%H:%M:%S') + pd.to_timedelta('1h')"
   ]
  },
  {
   "cell_type": "code",
   "execution_count": 33,
   "metadata": {
    "collapsed": false
   },
   "outputs": [
    {
     "data": {
      "text/plain": [
       "[0, 1, 2, 3, 4]"
      ]
     },
     "execution_count": 33,
     "metadata": {},
     "output_type": "execute_result"
    }
   ],
   "source": [
    "list(range(5))"
   ]
  },
  {
   "cell_type": "code",
   "execution_count": 41,
   "metadata": {
    "collapsed": false,
    "scrolled": true
   },
   "outputs": [],
   "source": [
    "data = {}\n",
    "for i in range(5):\n",
    "    t = pd.to_datetime('8:00:00', format= '%H:%M:%S')\n",
    "    e = pd.to_datetime('17:00:00', format='%H:%M:%S')\n",
    "\n",
    "    c = 0\n",
    "    data2 = {}\n",
    "    while t.time() <= e.time():\n",
    "        n_t = t + pd.to_timedelta('15m')\n",
    "        tmp = df.loc[(df['weekday'] == i) &\n",
    "                     (df['time_in_day'] >= t.time()) &\n",
    "                     (df['time_in_day'] < n_t.time())]\n",
    "        data[str(t.time())] = tmp\n",
    "        cnt = Counter(tmp['geohash_8'])\n",
    "        mf = cnt.most_common()[0]\n",
    "        t = n_t\n",
    "        data2[c] = (mf)\n",
    "        c += 1\n",
    "    data[i] = data2"
   ]
  },
  {
   "cell_type": "code",
   "execution_count": 43,
   "metadata": {
    "collapsed": false,
    "scrolled": true
   },
   "outputs": [
    {
     "data": {
      "text/plain": [
       "('dr997tcy', 84)"
      ]
     },
     "execution_count": 43,
     "metadata": {},
     "output_type": "execute_result"
    }
   ],
   "source": [
    "data[0][2]"
   ]
  },
  {
   "cell_type": "code",
   "execution_count": 30,
   "metadata": {
    "collapsed": false
   },
   "outputs": [
    {
     "data": {
      "text/plain": [
       "'dr997t3'"
      ]
     },
     "execution_count": 30,
     "metadata": {},
     "output_type": "execute_result"
    }
   ],
   "source": [
    "Counter(data['08:00:00']['geohash_7']).most_common()[0][0]"
   ]
  },
  {
   "cell_type": "code",
   "execution_count": 8,
   "metadata": {
    "collapsed": false
   },
   "outputs": [],
   "source": [
    "# To select rows using conditions\n",
    "# e.g. select Monday data/weekday == 0\n",
    "\n",
    "# Add weekday column\n",
    "df['weekday'] = df['time'].apply(lambda x: x.weekday())\n",
    "\n",
    "# Select Monday data\n",
    "df_Mondays = df.loc[df['weekday'] == 0]\n",
    "\n",
    "# Or do this in one line\n",
    "df_Mondays = df.loc[df['time'].apply(lambda x: x.weekday()) == 0]"
   ]
  },
  {
   "cell_type": "code",
   "execution_count": 9,
   "metadata": {
    "collapsed": false,
    "scrolled": true
   },
   "outputs": [],
   "source": [
    "# Select data using two conditions\n",
    "# e.g. Use weekday == 0 and geohash == 'dr997tc'\n",
    "df_Mondays_at_dr997tc = df.loc[(df['weekday'] == 0) & (df['geohash_7'] == 'dr997tc')]\n",
    "\n",
    "# Get geohash values from 9:00 to 11:00 on Mondays\n",
    "Mondays_9_to_11 = df.loc[(df['weekday'] == 0) &                               # row condition 1\n",
    "                         (df['time'].apply(lambda x: x.hour).isin([9, 10])),  # row condition 2\n",
    "                         'geohash_7']                                         # column"
   ]
  },
  {
   "cell_type": "code",
   "execution_count": 61,
   "metadata": {
    "collapsed": true
   },
   "outputs": [],
   "source": [
    "# Some functions that handles datetime\n",
    "time_string = '2016-02-02 23:43:44-05:00'\n",
    "\n",
    "# convert string into timedate object\n",
    "time_object = pd.to_datetime(time_string)\n",
    "\n",
    "# It always ignores timezone information\n",
    "pd.to_datetime('2016-02-02 23:43:44-05:00') == pd.to_datetime('2016-02-03 04:43:44')\n",
    "\n",
    "# Add timezone information\n",
    "time_object = time_object.tz_localize('UTC').tz_convert('America/New_York')\n",
    "\n",
    "\n",
    "# Timedelta, time difference\n",
    "# e.g. '1h', '1s', '1d', '30m'\n",
    "one_hour = pd.to_timedelta('1h')\n",
    "next_hour = time_object + one_hour\n",
    "\n",
    "# The difference is a timedelta object\n",
    "diff = next_hour - time_object\n",
    "assert diff.seconds == 60 * 60"
   ]
  },
  {
   "cell_type": "code",
   "execution_count": 10,
   "metadata": {
    "collapsed": false,
    "scrolled": true
   },
   "outputs": [
    {
     "name": "stdout",
     "output_type": "stream",
     "text": [
      "f24yru7 1\n",
      "f24yqss 1\n",
      "f24yyuc 40\n",
      "f25n6dy 1\n",
      "dr997mx 6\n",
      "dr997rh 2\n",
      "f25n6cu 1\n",
      "dr997r7 1\n",
      "f25n4yz 4\n",
      "f25n750 1\n",
      "f24yysq 37\n",
      "dr997u0 1\n",
      "f25n6g1 1\n",
      "f24yqg5 1\n",
      "f24yyst 1\n",
      "f24yyev 2\n",
      "f24yy7q 2\n",
      "f24yy6z 2\n",
      "f24yqmz 1\n",
      "f25n3u3 1\n",
      "f25n6c4 3\n",
      "f24yrm4 1\n",
      "f24yyu0 4\n",
      "f24yysm 2\n",
      "f24yygf 3\n",
      "dr997qk 1\n",
      "dr997q7 2\n",
      "f25n6cb 9\n",
      "f25n6c8 3\n",
      "f24yygg 1\n",
      "f25n6fs 1\n",
      "f25n6c3 5\n",
      "f25n6fk 1\n",
      "f24yysw 3\n",
      "f24yysr 10\n",
      "f24yyu2 2\n",
      "dr997qh 58\n",
      "f24yqg4 2\n",
      "dr997t3 74\n",
      "dr997r4 11\n",
      "f25n6kg 1\n",
      "dr997w4 3\n",
      "dr997tf 19\n",
      "dr997q5 27\n",
      "dr997fx 8\n",
      "f24yrpf 1\n",
      "f25n6gt 1\n",
      "dr997qu 107\n",
      "f24yytk 2\n",
      "dr997t9 6\n",
      "dr997qj 1\n",
      "f25n27w 1\n",
      "dr997tc 703\n",
      "dr997x6 2\n",
      "f24yruk 1\n",
      "f25n3s5 2\n",
      "dr5rvpg 200\n",
      "f24yrj6 3\n",
      "dr5rvpf 5\n",
      "dr997xd 77\n",
      "f24ywxs 1\n",
      "dr997t6 79\n",
      "f24yysh 1\n",
      "f24yyu7 5\n",
      "dr997qt 12\n",
      "dr997rk 50\n",
      "f24yy7r 1\n",
      "f24ywxk 1\n",
      "f24yye4 1\n",
      "f24yyu6 2\n",
      "f25n6cf 1\n",
      "f24yqww 1\n",
      "dr997r5 6\n",
      "f24yrmh 1\n",
      "dr997td 13\n",
      "f24yqmy 6\n",
      "dr997x3 1\n",
      "f24yyu3 1\n",
      "dr997r6 69\n",
      "dr5rvpe 1\n"
     ]
    }
   ],
   "source": [
    "# Use Counter to ge the counts of a list of values\n",
    "counts = Counter(Mondays_9_to_11)\n",
    "\n",
    "# Key is item, value is count\n",
    "for key, counts in counts.items():\n",
    "    print(key, counts)"
   ]
  }
 ],
 "metadata": {
  "kernelspec": {
   "display_name": "Python 3",
   "language": "python",
   "name": "python3"
  },
  "language_info": {
   "codemirror_mode": {
    "name": "ipython",
    "version": 3
   },
   "file_extension": ".py",
   "mimetype": "text/x-python",
   "name": "python",
   "nbconvert_exporter": "python",
   "pygments_lexer": "ipython3",
   "version": "3.5.2"
  }
 },
 "nbformat": 4,
 "nbformat_minor": 2
}
