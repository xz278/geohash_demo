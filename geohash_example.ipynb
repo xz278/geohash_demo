{
 "cells": [
  {
   "cell_type": "code",
   "execution_count": 1,
   "metadata": {
    "collapsed": true
   },
   "outputs": [],
   "source": [
    "import pandas as pd\n",
    "import geohash\n",
    "import numpy as np"
   ]
  },
  {
   "cell_type": "code",
   "execution_count": 2,
   "metadata": {
    "collapsed": false
   },
   "outputs": [
    {
     "name": "stdout",
     "output_type": "stream",
     "text": [
      "original coordinates: (41, 30)\n",
      "\n",
      "encoded geohash value: sxm34xv6\n",
      "\n",
      "decoded coordinates: (41.00003242492676, 30.000057220458984)\n",
      "\n"
     ]
    }
   ],
   "source": [
    "coord = (41, 30)   # GPS coordinates. (latitude, longitude)\n",
    "lat, lon = coord   # unpack the tuple, not neccesary just to show how it works\n",
    "\n",
    "# encode a gps coordinates\n",
    "geohash_encode = geohash.encode(latitude=lat,longitude=lon, precision=8)\n",
    "\n",
    "# decode a gps coordinates\n",
    "geohash_decode = geohash.decode(geohash_encode)\n",
    "\n",
    "print('original coordinates: {}\\n'.format(coord))\n",
    "print('encoded geohash value: {}\\n'.format(geohash_encode))\n",
    "print('decoded coordinates: {}\\n'.format(geohash_decode))"
   ]
  },
  {
   "cell_type": "code",
   "execution_count": 17,
   "metadata": {
    "collapsed": false
   },
   "outputs": [],
   "source": [
    "# read data from file\n",
    "df = pd.read_csv('coordinates_demo.csv', usecols=['latitude', 'longitude'])\n",
    "\n",
    "# compute geohash\n",
    "geohash_value = []\n",
    "for index, row in df.iterrows():\n",
    "    lat = float(row['latitude'])\n",
    "    lon = float(row['longitude'])\n",
    "    v = geohash.encode(latitude=lat,\n",
    "                       longitude=lon,\n",
    "                       precision=8)\n",
    "    geohash_value.append(v)\n",
    "df['geohash_value'] = geohash_value\n",
    "\n",
    "# write results to file\n",
    "df.to_csv('output_demo.csv')"
   ]
  },
  {
   "cell_type": "code",
   "execution_count": 16,
   "metadata": {
    "collapsed": false
   },
   "outputs": [
    {
     "name": "stdout",
     "output_type": "stream",
     "text": [
      "   latitude  longitude geohash_value\n",
      "0        41         30      sxm34xv6\n",
      "1        45         32      u8nb00j8\n"
     ]
    }
   ],
   "source": [
    "print(df)"
   ]
  }
 ],
 "metadata": {
  "kernelspec": {
   "display_name": "Python 3",
   "language": "python",
   "name": "python3"
  },
  "language_info": {
   "codemirror_mode": {
    "name": "ipython",
    "version": 3
   },
   "file_extension": ".py",
   "mimetype": "text/x-python",
   "name": "python",
   "nbconvert_exporter": "python",
   "pygments_lexer": "ipython3",
   "version": "3.5.2"
  }
 },
 "nbformat": 4,
 "nbformat_minor": 1
}
